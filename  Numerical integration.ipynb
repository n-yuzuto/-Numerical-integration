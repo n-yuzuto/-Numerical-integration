{
 "cells": [
  {
   "cell_type": "code",
   "execution_count": 4,
   "metadata": {},
   "outputs": [
    {
     "data": {
      "text/plain": [
       "1524"
      ]
     },
     "execution_count": 4,
     "metadata": {},
     "output_type": "execute_result"
    }
   ],
   "source": [
    "a=open('canvas.py','w')\n",
    "a.write('''def pixcel_make(r, g, b):\n",
    "    return (r, g, b)\n",
    "\n",
    "def make(xsize, ysize):\n",
    "    canvas = []\n",
    "    for y in range(ysize):\n",
    "        canvas.append([])\n",
    "    for y in range(ysize):\n",
    "        for x in range(xsize):\n",
    "            canvas[y].append(pixcel_make(240, 240, 240))\n",
    "    return canvas\n",
    "\n",
    "def pset(canvas, x, y, r, g, b):\n",
    "    height = len(canvas)\n",
    "    if( y<0 or y >= height ):\n",
    "        return\n",
    "    width = len(canvas[y])\n",
    "    if( x < 0 or x >= width ):\n",
    "        return\n",
    "    canvas[y][x] = pixcel_make(r, g, b)\n",
    "\n",
    "from PIL import Image\n",
    "import numpy as np\n",
    "from IPython.display import display_png, clear_output\n",
    "\n",
    "def show(canvas):\n",
    "    return Image.fromarray(np.array(canvas, dtype='uint8'))\n",
    "\n",
    "def show2(canvas):\n",
    "    display_png(show(canvas))\n",
    "\n",
    "def _line1(canvas, x0, y0, x1, y1, r, g, b):\n",
    "    width  = x1 - x0\n",
    "    height = y1 - y0\n",
    "    slope = height/width\n",
    "    for i in range(width):\n",
    "        x = x0 + i\n",
    "        y = y0 + int(i*slope+0.5)\n",
    "        pset(canvas, x, y, r, g, b)\n",
    "\n",
    "def _line2(canvas, x0, y0, x1, y1, r, g, b):\n",
    "    width  = x1 - x0\n",
    "    height = y1 - y0\n",
    "    slope = width/height\n",
    "    for i in range(height):\n",
    "        x = x0 + int(i*slope+0.5)\n",
    "        y = y0 + i\n",
    "        pset(canvas, x, y, r, g, b)\n",
    "\n",
    "def line(canvas, x0, y0, x1, y1, r, g, b):\n",
    "    if abs(x1 - x0) < abs(y1 - y0):\n",
    "        if y0 > y1:\n",
    "            _line2(canvas, x1, y1, x0, y0, r, g, b)\n",
    "        else:\n",
    "            _line2(canvas, x0, y0, x1, y1, r, g, b)\n",
    "    elif x0 > x1:\n",
    "        _line1(canvas, x1, y1, x0, y0, r, g, b)\n",
    "    elif x0 < x1:\n",
    "        _line1(canvas, x0, y0, x1, y1, r, g, b)''')\n"
   ]
  },
  {
   "cell_type": "code",
   "execution_count": 7,
   "metadata": {},
   "outputs": [
    {
     "data": {
      "image/png": "[encoded data removed]",
      "text/plain": [
       "<PIL.Image.Image image mode=RGB size=200x200 at 0x1A2B5F0A978>"
      ]
     },
     "execution_count": 7,
     "metadata": {},
     "output_type": "execute_result"
    }
   ],
   "source": [
    "# 上記のファイルcanvas.pyが同じフォルダにある場合は、このコードで線が表示される\n",
    "import canvas\n",
    "c = canvas.make(200, 200)\n",
    "for i in range(0, 210, 5):\n",
    "    canvas.line(c, i, 0, 200-i, 200, 0, 0, 255)\n",
    "    canvas.line(c, 0, i, 200, 200-i, 0, 0, 255)\n",
    "\n",
    "canvas.show(c)"
   ]
  },
  {
   "cell_type": "code",
   "execution_count": 8,
   "metadata": {},
   "outputs": [],
   "source": [
    "# 中心(0, 0) 半径1の円の、yが正の部分\n",
    "import math\n",
    "def f(x):\n",
    "    return math.sqrt(1 - x**2)"
   ]
  },
  {
   "cell_type": "code",
   "execution_count": 9,
   "metadata": {},
   "outputs": [
    {
     "data": {
      "image/png": "[encoded data removed]",
      "text/plain": [
       "<PIL.Image.Image image mode=RGB size=201x201 at 0x1A2B5EB7F60>"
      ]
     },
     "execution_count": 9,
     "metadata": {},
     "output_type": "execute_result"
    }
   ],
   "source": [
    "# 小数を含む座標をscale倍して線を描画する関数\n",
    "def scale_line(c, x1, y1, x2, y2, r, g, b, scale):\n",
    "    return canvas.line(c, int(x1*scale+0.5), int(y1*scale+0.5), int(x2*scale+0.5), int(y2*scale+0.5), r, g, b)\n",
    "\n",
    "# 0 <= x <= 1 の範囲をn個に区切り、f(x)を折れ線で描画する関数。scaleは拡大する倍率(整数)。\n",
    "def draw_f(c, n, scale, r, g, b):\n",
    "    for i in range(n):\n",
    "        x1 = i / n\n",
    "        x2 = (i + 1) / n\n",
    "        scale_line(c, x1, f(x1), x2, f(x2), r, g, b, scale)\n",
    "\n",
    "# スケール200倍\n",
    "sc = 200\n",
    "def cmake():\n",
    "    # 適切なサイズのキャンバスを返す\n",
    "    return canvas.make(sc + 1, sc + 1)\n",
    "\n",
    "# 関数f(x)を5本の折れ線で粗く描く\n",
    "c = cmake()\n",
    "draw_f(c, 5, sc, 0, 0, 255)\n",
    "canvas.show(c)"
   ]
  },
  {
   "cell_type": "code",
   "execution_count": 10,
   "metadata": {},
   "outputs": [
    {
     "data": {
      "image/png": "[encoded data removed]",
      "text/plain": [
       "<PIL.Image.Image image mode=RGB size=201x201 at 0x1A2B772E908>"
      ]
     },
     "execution_count": 10,
     "metadata": {},
     "output_type": "execute_result"
    }
   ],
   "source": [
    "# もっと細かく50に区切って描く。\n",
    "c = cmake()\n",
    "draw_f(c, 50, sc, 0, 0, 255)\n",
    "canvas.show(c)"
   ]
  },
  {
   "cell_type": "code",
   "execution_count": 12,
   "metadata": {},
   "outputs": [
    {
     "data": {
      "image/png": "[encoded data removed]",
      "text/plain": [
       "<PIL.Image.Image image mode=RGB size=201x201 at 0x1A2B72D4358>"
      ]
     },
     "execution_count": 12,
     "metadata": {},
     "output_type": "execute_result"
    }
   ],
   "source": [
    "# キャンバスcに、(x,0)から幅w 高さhの長方形を描画する。\n",
    "import canvas\n",
    "def rect(c, x, w, h, r, g, b, scale):\n",
    "    # この続きを書く    \n",
    "    scale_line(c, x+w, 0, x+w, h, r, g, b, sc)\n",
    "    scale_line(c, x, 0, x, h, r, g, b, sc)\n",
    "    scale_line(c, x, 0, x+w, 0, r, g, b, sc)\n",
    "    scale_line(c, x, h, x+w, h, r, g, b, sc)\n",
    "# 例: x=0.2から幅0.1, 高さ0.8の長方形を青で描画する。\n",
    "c = cmake()\n",
    "rect(c, 0.2, 0.1, 0.8, 0, 0, 255, sc)\n",
    "canvas.show(c)"
   ]
  },
  {
   "cell_type": "code",
   "execution_count": 13,
   "metadata": {},
   "outputs": [
    {
     "data": {
      "image/png": "[encoded data removed]",
      "text/plain": [
       "<PIL.Image.Image image mode=RGB size=201x201 at 0x1A2B5F0ADD8>"
      ]
     },
     "execution_count": 13,
     "metadata": {},
     "output_type": "execute_result"
    }
   ],
   "source": [
    "# f(x)を折れ線でなく長方形を並べて描画する。\n",
    "def draw_f_rect(canvas, n, scale, r, g, b):\n",
    "    for i in range(n):\n",
    "        # この続きを書く\n",
    "        x1 = i/n\n",
    "        x2 = 1/n\n",
    "        rect(c, x1, x2, f(x1), r, g, b, scale)    \n",
    "c = canvas.make(sc + 1, sc + 1)\n",
    "draw_f(c, 50, sc, 0, 0, 0)  # 折れ線\n",
    "draw_f_rect(c, 5, sc, 0, 0, 255) #長方形5個\n",
    "canvas.show(c)"
   ]
  },
  {
   "cell_type": "code",
   "execution_count": 14,
   "metadata": {},
   "outputs": [
    {
     "data": {
      "image/png": "[encoded data removed]",
      "text/plain": [
       "<PIL.Image.Image image mode=RGB size=201x201 at 0x1A2B772ED30>"
      ]
     },
     "execution_count": 14,
     "metadata": {},
     "output_type": "execute_result"
    }
   ],
   "source": [
    "# もっと細かい例\n",
    "c = cmake()\n",
    "draw_f(c, 50, sc, 0, 0, 0)  # 折れ線\n",
    "draw_f_rect(c, 20, sc, 0, 0, 255) #長方形20個\n",
    "canvas.show(c)"
   ]
  },
  {
   "cell_type": "code",
   "execution_count": 15,
   "metadata": {},
   "outputs": [
    {
     "data": {
      "text/plain": [
       "3.160417031779047"
      ]
     },
     "execution_count": 15,
     "metadata": {},
     "output_type": "execute_result"
    }
   ],
   "source": [
    "def area_f_rect(n):\n",
    "    area = 0\n",
    "    for i in range(n):\n",
    "        # この続きを書く\n",
    "        x = i / n\n",
    "        wid = 1 / n\n",
    "        hei = f(x)\n",
    "        area = area + wid * hei \n",
    "    return(area)\n",
    "area_f_rect(100) * 4"
   ]
  },
  {
   "cell_type": "code",
   "execution_count": 16,
   "metadata": {},
   "outputs": [
    {
     "data": {
      "image/png": "[encoded data removed]",
      "text/plain": [
       "<PIL.Image.Image image mode=RGB size=201x201 at 0x1A2B5F0DEB8>"
      ]
     },
     "execution_count": 16,
     "metadata": {},
     "output_type": "execute_result"
    }
   ],
   "source": [
    "# キャンバスcに、(x,0)から幅w 高さh1, h2の台形を描画する。\n",
    "def daikei(c, x, w, h1, h2, r, g, b, scale):\n",
    "    # この続きを書く\n",
    "    scale_line(c, x, 0, x+w, 0, r, g, b, sc)\n",
    "    scale_line(c, x, 0, x, h1, r, g, b, sc)\n",
    "    scale_line(c, x+w, 0, x+w, h2, r, g, b, sc)\n",
    "    scale_line(c, x, h1, x+w, h2, r, g, b, sc)\n",
    "# 例: x=0.2から幅0.1, 高さ0.9と0.8の台形を青で描画する。\n",
    "c = cmake()\n",
    "daikei(c, 0.2, 0.1, 0.9, 0.8, 0, 0, 255, sc)\n",
    "canvas.show(c)"
   ]
  },
  {
   "cell_type": "code",
   "execution_count": 17,
   "metadata": {},
   "outputs": [
    {
     "data": {
      "image/png": "[encoded data removed]",
      "text/plain": [
       "<PIL.Image.Image image mode=RGB size=201x201 at 0x1A2B77383C8>"
      ]
     },
     "execution_count": 17,
     "metadata": {},
     "output_type": "execute_result"
    }
   ],
   "source": [
    "# daikeiを用い、台形を並べてグラフを描く関数\n",
    "def draw_f_daikei(c, n, scale, r, g, b):\n",
    "    for i in range(n):\n",
    "        x1 = i / n\n",
    "        x2 = (i + 1) / n\n",
    "        daikei(c, x1, 1/n, f(x1), f(x2), r, g, b, scale)\n",
    "\n",
    "c = cmake()\n",
    "draw_f_daikei(c, 5, sc, 0, 0, 255)\n",
    "canvas.show(c)"
   ]
  },
  {
   "cell_type": "code",
   "execution_count": 18,
   "metadata": {},
   "outputs": [
    {
     "data": {
      "text/plain": [
       "3.140417031779045"
      ]
     },
     "execution_count": 18,
     "metadata": {},
     "output_type": "execute_result"
    }
   ],
   "source": [
    "def area_f_daikei(n):\n",
    "    # この後を書く\n",
    "    area=0\n",
    "    for i in range(n):\n",
    "        area+=(f(i/n)+f((i+1)/n))/n/2\n",
    "    return area\n",
    "\n",
    "area_f_daikei(100) * 4"
   ]
  },
  {
   "cell_type": "code",
   "execution_count": 19,
   "metadata": {},
   "outputs": [
    {
     "data": {
      "image/png": "[encoded data removed]",
      "text/plain": [
       "<PIL.Image.Image image mode=RGB size=201x201 at 0x1A2B5F0A5C0>"
      ]
     },
     "execution_count": 19,
     "metadata": {},
     "output_type": "execute_result"
    }
   ],
   "source": [
    "import random\n",
    "# (x, y) の位置に十字線を描く\n",
    "def dot(c, x, y, r, g, b, scale):\n",
    "    size = scale/15000\n",
    "    scale_line(c, x-size, y, x+size, y, r, g, b, scale)\n",
    "    scale_line(c, x, y-size, x, y+size, r, g, b, scale)\n",
    "\n",
    "def draw_f_random_dot(c, n, scale):\n",
    "    for i in range(n):\n",
    "        x = random.random()\n",
    "        y = random.random()\n",
    "        if y <= f(x):\n",
    "            dot(c, x, y, 0, 0, 255, scale)  # 内側や線上は青\n",
    "        else:\n",
    "            dot(c, x, y, 255, 0, 0, scale)  # 外側は赤\n",
    "            \n",
    "c = cmake()\n",
    "draw_f(c, 50, sc, 0, 0, 0)\n",
    "random.seed(0)    # いつも同じ乱数列になるよう、種を指定する\n",
    "draw_f_random_dot(c, 500, sc)\n",
    "canvas.show(c)"
   ]
  },
  {
   "cell_type": "code",
   "execution_count": 20,
   "metadata": {},
   "outputs": [
    {
     "data": {
      "text/plain": [
       "3.14844"
      ]
     },
     "execution_count": 20,
     "metadata": {},
     "output_type": "execute_result"
    }
   ],
   "source": [
    "def area_f_random(n):\n",
    "    # この後を書いて完成させる\n",
    "    y1=[]\n",
    "    for i in range(n):\n",
    "        x=random.random()\n",
    "        y=random.random()\n",
    "        \n",
    "        if y<= f(x):\n",
    "            y1.append(y)\n",
    "    w=int(len(y1))\n",
    "    return w/n\n",
    "\n",
    "# 以下を実行して試すこと\n",
    "random.seed(0)\n",
    "area_f_random(100000) * 4"
   ]
  },
  {
   "cell_type": "code",
   "execution_count": 21,
   "metadata": {},
   "outputs": [
    {
     "data": {
      "image/png": "[encoded data removed]"
     },
     "metadata": {},
     "output_type": "display_data"
    },
    {
     "name": "stdout",
     "output_type": "stream",
     "text": [
      "長方形近似: 0.5\n"
     ]
    },
    {
     "data": {
      "image/png": "[encoded data removed]"
     },
     "metadata": {},
     "output_type": "display_data"
    },
    {
     "name": "stdout",
     "output_type": "stream",
     "text": [
      "モンテカルロ: 0.5011\n"
     ]
    }
   ],
   "source": [
    "# サインカーブ\n",
    "def f(x):\n",
    "    return (math.sin(x * math.pi * 2) + 1) / 2\n",
    "\n",
    "def test():\n",
    "    d = cmake()\n",
    "    draw_f(d, 50, sc, 0, 0, 0)  # 折れ線\n",
    "    draw_f_rect(d, 20, sc, 0, 0, 255) #長方形20個\n",
    "    canvas.show2(d)\n",
    "    print('長方形近似: {}'.format(area_f_rect(100)))\n",
    "    c = cmake()\n",
    "    draw_f(c, 50, sc, 0, 0, 0)  # 折れ線\n",
    "    random.seed(0)\n",
    "    draw_f_random_dot(c, 500, sc)\n",
    "    canvas.show2(c)\n",
    "    print('モンテカルロ: {}'.format(area_f_random(10000)))\n",
    "    \n",
    "test()"
   ]
  },
  {
   "cell_type": "code",
   "execution_count": 22,
   "metadata": {},
   "outputs": [
    {
     "data": {
      "image/png": "[encoded data removed]"
     },
     "metadata": {},
     "output_type": "display_data"
    },
    {
     "name": "stdout",
     "output_type": "stream",
     "text": [
      "長方形近似: 0.7016746032457626\n"
     ]
    },
    {
     "data": {
      "image/png": "[encoded data removed]"
     },
     "metadata": {},
     "output_type": "display_data"
    },
    {
     "name": "stdout",
     "output_type": "stream",
     "text": [
      "モンテカルロ: 0.7113\n",
      "正確な値: 0.7066982139383011\n"
     ]
    }
   ],
   "source": [
    "# 分数関数\n",
    "def f(x):\n",
    "    return x * 6 / ((x + 1) * (x + 2))\n",
    "\n",
    "test()\n",
    "# 上の分数関数の、x1からx2までの積分は下のg(x2) - g(x1)で計算できる\n",
    "def g(x):\n",
    "    return 6 * (2 * math.log(2 + x) - math.log(1+x))\n",
    "\n",
    "print('正確な値: {}'.format(g(1) - g(0)))"
   ]
  },
  {
   "cell_type": "code",
   "execution_count": 23,
   "metadata": {},
   "outputs": [
    {
     "data": {
      "image/png": "[encoded data removed]"
     },
     "metadata": {},
     "output_type": "display_data"
    },
    {
     "name": "stdout",
     "output_type": "stream",
     "text": [
      "長方形近似: 0.48594492545743745\n"
     ]
    },
    {
     "data": {
      "image/png": "[encoded data removed]"
     },
     "metadata": {},
     "output_type": "display_data"
    },
    {
     "name": "stdout",
     "output_type": "stream",
     "text": [
      "モンテカルロ: 0.4927\n"
     ]
    }
   ],
   "source": [
    "# 何やら難しい関数\n",
    "def f(x):\n",
    "    return x / math.log(math.tan(x) + 2)\n",
    "\n",
    "test()"
   ]
  },
  {
   "cell_type": "code",
   "execution_count": null,
   "metadata": {},
   "outputs": [],
   "source": [
    "#シンプソン法の関数area_simpson"
   ]
  },
  {
   "cell_type": "code",
   "execution_count": 24,
   "metadata": {},
   "outputs": [
    {
     "data": {
      "text/plain": [
       "3.1415921943382306"
      ]
     },
     "execution_count": 24,
     "metadata": {},
     "output_type": "execute_result"
    }
   ],
   "source": [
    "def area_simpson(x_start, x_end, n):\n",
    "    delta=x_end-x_start\n",
    "    w=delta/n\n",
    "    area=(f(x_start)+f(x_end))\n",
    "    for i in range(n):\n",
    "        a=x_start+w*(i+0.5)\n",
    "        b=x_start+w*(i+1)\n",
    "        c=4*f(a)+2*f(b)\n",
    "        area=area+c\n",
    "    return w*area/6\n",
    "# -1から1まで、半円の面積を求めて2倍する\n",
    "def f(x):\n",
    "    return math.sqrt(1 - x**2)\n",
    "\n",
    "area_simpson(-1, 1, 10000) * 2\n",
    "# 3.1415921... で始まる数になるはず"
   ]
  },
  {
   "cell_type": "code",
   "execution_count": null,
   "metadata": {},
   "outputs": [],
   "source": []
  }
 ],
 "metadata": {
  "kernelspec": {
   "display_name": "Python 3",
   "language": "python",
   "name": "python3"
  },
  "language_info": {
   "codemirror_mode": {
    "name": "ipython",
    "version": 3
   },
   "file_extension": ".py",
   "mimetype": "text/x-python",
   "name": "python",
   "nbconvert_exporter": "python",
   "pygments_lexer": "ipython3",
   "version": "3.7.3"
  }
 },
 "nbformat": 4,
 "nbformat_minor": 2
}
